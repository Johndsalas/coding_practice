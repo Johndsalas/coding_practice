{
 "cells": [
  {
   "cell_type": "code",
   "execution_count": 2,
   "metadata": {},
   "outputs": [
    {
     "data": {
      "text/plain": [
       "3"
      ]
     },
     "execution_count": 2,
     "metadata": {},
     "output_type": "execute_result"
    }
   ],
   "source": [
    "li = [1,2,3,3,3,4,5]\n",
    "\n",
    "import statistics as s\n",
    "\n",
    "s.mode(li)\n",
    "\n",
    "\n"
   ]
  },
  {
   "cell_type": "code",
   "execution_count": 5,
   "metadata": {},
   "outputs": [],
   "source": [
    "import statistics as s\n",
    "\n",
    "def get_mode(li):\n",
    "    \n",
    "    return s.mode(li)\n",
    "    "
   ]
  },
  {
   "cell_type": "code",
   "execution_count": 6,
   "metadata": {},
   "outputs": [
    {
     "data": {
      "text/plain": [
       "3"
      ]
     },
     "execution_count": 6,
     "metadata": {},
     "output_type": "execute_result"
    }
   ],
   "source": [
    "get_mode(li)"
   ]
  },
  {
   "cell_type": "code",
   "execution_count": 9,
   "metadata": {},
   "outputs": [
    {
     "name": "stdout",
     "output_type": "stream",
     "text": [
      "True\n",
      "True\n",
      "True\n",
      "True\n",
      "True\n"
     ]
    }
   ],
   "source": [
    "li = [1,2,3,3,3,4,5]\n",
    "\n",
    "for number in li:\n",
    "    \n",
    "    if number % 2 != 0:\n",
    "        \n",
    "        print(True)"
   ]
  },
  {
   "cell_type": "code",
   "execution_count": 14,
   "metadata": {},
   "outputs": [],
   "source": [
    "def true_if_odd(li):\n",
    "    \n",
    "    for number in li:\n",
    "    \n",
    "        if number % 2 != 0:\n",
    "        \n",
    "            return True\n",
    "    \n",
    "    return False"
   ]
  },
  {
   "cell_type": "code",
   "execution_count": 15,
   "metadata": {},
   "outputs": [
    {
     "data": {
      "text/plain": [
       "False"
      ]
     },
     "execution_count": 15,
     "metadata": {},
     "output_type": "execute_result"
    }
   ],
   "source": [
    "li2 = [2,4,6,8,10]\n",
    "\n",
    "true_if_odd(li2)"
   ]
  },
  {
   "cell_type": "code",
   "execution_count": 16,
   "metadata": {},
   "outputs": [
    {
     "data": {
      "text/plain": [
       "5"
      ]
     },
     "execution_count": 16,
     "metadata": {},
     "output_type": "execute_result"
    }
   ],
   "source": [
    "li = [1,2,3,3,3,4,5]\n",
    "\n",
    "count = 0\n",
    "\n",
    "for number in li:\n",
    "    \n",
    "    if number % 2 != 0:\n",
    "        \n",
    "        count += 1\n",
    "        \n",
    "count "
   ]
  },
  {
   "cell_type": "code",
   "execution_count": 17,
   "metadata": {},
   "outputs": [],
   "source": [
    "books = [\n",
    "            {\n",
    "                \"title\": \"Genetic Algorithms and Machine Learning for Programmers\",\n",
    "                \"price\": 36.99,\n",
    "                \"author\": \"Frances Buontempo\"\n",
    "            },\n",
    "            {\n",
    "                \"title\": \"The Visual Display of Quantitative Information\",\n",
    "                \"price\": 38.00,\n",
    "                \"author\": \"Edward Tufte\"\n",
    "            },\n",
    "            {\n",
    "                \"title\": \"Practical Object-Oriented Design\",\n",
    "                \"author\": \"Sandi Metz\",\n",
    "                \"price\": 30.47\n",
    "            },\n",
    "            {\n",
    "                \"title\": \"Weapons of Math Destruction\",\n",
    "                \"author\": \"Cathy O'Neil\",\n",
    "                \"price\": 17.44\n",
    "            }\n",
    "        ]"
   ]
  },
  {
   "cell_type": "code",
   "execution_count": 23,
   "metadata": {},
   "outputs": [
    {
     "data": {
      "text/plain": [
       "122.9"
      ]
     },
     "execution_count": 23,
     "metadata": {},
     "output_type": "execute_result"
    }
   ],
   "source": [
    "price = 0\n",
    "\n",
    "for book in books:\n",
    "    \n",
    "    price += book[\"price\"]\n",
    "    \n",
    "price "
   ]
  },
  {
   "cell_type": "code",
   "execution_count": 24,
   "metadata": {},
   "outputs": [],
   "source": [
    "shopping_cart = {\n",
    "                    \"tax\": .08,\n",
    "                    \"items\": [\n",
    "                                    {\n",
    "                                        \"title\": \"orange juice\",\n",
    "                                        \"price\": 3.99,\n",
    "                                        \"quantity\": 1\n",
    "                                    },\n",
    "                                    {\n",
    "                                        \"title\": \"rice\",\n",
    "                                        \"price\": 1.99,\n",
    "                                        \"quantity\": 3\n",
    "                                    },\n",
    "                                    {\n",
    "                                        \"title\": \"beans\",\n",
    "                                        \"price\": 0.99,\n",
    "                                        \"quantity\": 3\n",
    "                                    },\n",
    "                                    {\n",
    "                                        \"title\": \"chili sauce\",\n",
    "                                        \"price\": 2.99,\n",
    "                                        \"quantity\": 1\n",
    "                                    },\n",
    "                                    {\n",
    "                                        \"title\": \"chocolate\",\n",
    "                                        \"price\": 0.75,\n",
    "                                        \"quantity\": 9\n",
    "                                    }\n",
    "                            ]\n",
    "                    }"
   ]
  },
  {
   "cell_type": "code",
   "execution_count": 25,
   "metadata": {},
   "outputs": [
    {
     "data": {
      "text/plain": [
       "[{'title': 'orange juice', 'price': 3.99, 'quantity': 1},\n",
       " {'title': 'rice', 'price': 1.99, 'quantity': 3},\n",
       " {'title': 'beans', 'price': 0.99, 'quantity': 3},\n",
       " {'title': 'chili sauce', 'price': 2.99, 'quantity': 1},\n",
       " {'title': 'chocolate', 'price': 0.75, 'quantity': 9}]"
      ]
     },
     "execution_count": 25,
     "metadata": {},
     "output_type": "execute_result"
    }
   ],
   "source": [
    "shopping_cart[\"items\"]"
   ]
  },
  {
   "cell_type": "code",
   "execution_count": 26,
   "metadata": {},
   "outputs": [
    {
     "name": "stdout",
     "output_type": "stream",
     "text": [
      "3.99\n",
      "1.99\n",
      "0.99\n",
      "2.99\n",
      "0.75\n"
     ]
    }
   ],
   "source": [
    "for dic in shopping_cart[\"items\"]:\n",
    "    \n",
    "    print(dic['price'])"
   ]
  },
  {
   "cell_type": "code",
   "execution_count": null,
   "metadata": {},
   "outputs": [],
   "source": []
  }
 ],
 "metadata": {
  "kernelspec": {
   "display_name": "Python 3",
   "language": "python",
   "name": "python3"
  },
  "language_info": {
   "codemirror_mode": {
    "name": "ipython",
    "version": 3
   },
   "file_extension": ".py",
   "mimetype": "text/x-python",
   "name": "python",
   "nbconvert_exporter": "python",
   "pygments_lexer": "ipython3",
   "version": "3.7.4"
  }
 },
 "nbformat": 4,
 "nbformat_minor": 2
}
