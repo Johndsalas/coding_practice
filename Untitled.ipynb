{
 "cells": [
  {
   "cell_type": "code",
   "execution_count": 2,
   "metadata": {},
   "outputs": [],
   "source": [
    "books = [\n",
    "                {\n",
    "                    \"title\": \"Genetic Algorithms and Machine Learning for Programmers\",\n",
    "                    \"price\": 36.99,\n",
    "                    \"author\": \"Frances Buontempo\"\n",
    "                },\n",
    "    \n",
    "                {\n",
    "                    \"title\": \"The Visual Display of Quantitative Information\",\n",
    "                    \"price\": 38.00,\n",
    "                    \"author\": \"Edward Tufte\"\n",
    "                },\n",
    "    \n",
    "                {\n",
    "                    \"title\": \"Practical Object-Oriented Design\",\n",
    "                    \"author\": \"Sandi Metz\",\n",
    "                    \"price\": 30.47\n",
    "                },\n",
    "    \n",
    "                {\n",
    "                    \"title\": \"Weapons of Math Destruction\",\n",
    "                    \"author\": \"Cathy O'Neil\",\n",
    "                    \"price\": 17.44\n",
    "                }\n",
    "        ]"
   ]
  },
  {
   "cell_type": "code",
   "execution_count": 3,
   "metadata": {},
   "outputs": [],
   "source": [
    "# Write a function named total_of_book_prices that takes in a list of dictionaries and returns \n",
    "# the sum total of all the book prices added together"
   ]
  },
  {
   "cell_type": "code",
   "execution_count": 9,
   "metadata": {},
   "outputs": [
    {
     "data": {
      "text/plain": [
       "122.9"
      ]
     },
     "execution_count": 9,
     "metadata": {},
     "output_type": "execute_result"
    }
   ],
   "source": [
    "total_price = 0\n",
    "\n",
    "for book in books:\n",
    "    \n",
    "    total_price += book['price']\n",
    "    \n",
    "total_price"
   ]
  },
  {
   "cell_type": "code",
   "execution_count": 8,
   "metadata": {},
   "outputs": [
    {
     "data": {
      "text/plain": [
       "10"
      ]
     },
     "execution_count": 8,
     "metadata": {},
     "output_type": "execute_result"
    }
   ],
   "source": [
    "var = 5\n",
    "\n",
    "var = var + 5\n",
    "\n",
    "var"
   ]
  },
  {
   "cell_type": "code",
   "execution_count": 13,
   "metadata": {},
   "outputs": [],
   "source": [
    "def total_of_book_prices(books):\n",
    "    \n",
    "    total_price = 0\n",
    "    \n",
    "    for book in books:\n",
    "    \n",
    "        total_price += book['price']\n",
    "    \n",
    "    return total_price"
   ]
  },
  {
   "cell_type": "code",
   "execution_count": 27,
   "metadata": {},
   "outputs": [],
   "source": [
    "price = total_of_book_prices(books)"
   ]
  },
  {
   "cell_type": "code",
   "execution_count": null,
   "metadata": {},
   "outputs": [],
   "source": [
    "# Exercise 45\n",
    "# Write a function definition named count_vowels that takes in \n",
    "# a value and returns the count of the nubmer of vowels in a sequence.\n",
    "\n",
    "def count_vowels(value):\n",
    "    vowel = [\"a\", \"e\", \"i\", \"o\", \"u\"]\n",
    "    count = value.count('vowel')        \n",
    "    return count"
   ]
  },
  {
   "cell_type": "code",
   "execution_count": 20,
   "metadata": {},
   "outputs": [
    {
     "data": {
      "text/plain": [
       "5"
      ]
     },
     "execution_count": 20,
     "metadata": {},
     "output_type": "execute_result"
    }
   ],
   "source": [
    "word = 'aeiou'\n",
    "\n",
    "count = 0 \n",
    "\n",
    "for letter in word:\n",
    "    \n",
    "    if letter.lower() in ['a','e','i','o','u']:\n",
    "        \n",
    "        count += 1\n",
    "        \n",
    "count"
   ]
  },
  {
   "cell_type": "code",
   "execution_count": 55,
   "metadata": {},
   "outputs": [],
   "source": [
    "def count_vowels(word):\n",
    "    \n",
    "    count = 0 \n",
    "\n",
    "    for letter in word:\n",
    "    \n",
    "        if letter in ['a','e','i','o','u'] or ['A','E','I','O','U']:\n",
    "        \n",
    "            count += 1\n",
    "            \n",
    "    return count"
   ]
  },
  {
   "cell_type": "code",
   "execution_count": 56,
   "metadata": {},
   "outputs": [],
   "source": [
    "num_val = count_vowels('banana')"
   ]
  },
  {
   "cell_type": "code",
   "execution_count": 57,
   "metadata": {},
   "outputs": [
    {
     "data": {
      "text/plain": [
       "6"
      ]
     },
     "execution_count": 57,
     "metadata": {},
     "output_type": "execute_result"
    }
   ],
   "source": [
    "num_val "
   ]
  },
  {
   "cell_type": "code",
   "execution_count": 42,
   "metadata": {},
   "outputs": [
    {
     "data": {
      "text/plain": [
       "125.9"
      ]
     },
     "execution_count": 42,
     "metadata": {},
     "output_type": "execute_result"
    }
   ],
   "source": [
    "num_val + price"
   ]
  },
  {
   "cell_type": "code",
   "execution_count": 54,
   "metadata": {},
   "outputs": [
    {
     "data": {
      "text/plain": [
       "1"
      ]
     },
     "execution_count": 54,
     "metadata": {},
     "output_type": "execute_result"
    }
   ],
   "source": [
    "word = [1,2,3,4,5]\n",
    "\n",
    "\n",
    "word[0]"
   ]
  },
  {
   "cell_type": "code",
   "execution_count": 6,
   "metadata": {},
   "outputs": [
    {
     "name": "stdout",
     "output_type": "stream",
     "text": [
      "2\n",
      "6\n"
     ]
    },
    {
     "data": {
      "text/plain": [
       "[4, 8]"
      ]
     },
     "execution_count": 6,
     "metadata": {},
     "output_type": "execute_result"
    }
   ],
   "source": [
    "num_list = [2,4,6,8]\n",
    "\n",
    "for item in num_list:\n",
    "    \n",
    "    print(item)\n",
    "    \n",
    "    if item % 2 == 0:\n",
    "        \n",
    "        num_list.remove(item)\n",
    "\n",
    "num_list"
   ]
  },
  {
   "cell_type": "code",
   "execution_count": null,
   "metadata": {},
   "outputs": [],
   "source": []
  }
 ],
 "metadata": {
  "kernelspec": {
   "display_name": "Python 3",
   "language": "python",
   "name": "python3"
  },
  "language_info": {
   "codemirror_mode": {
    "name": "ipython",
    "version": 3
   },
   "file_extension": ".py",
   "mimetype": "text/x-python",
   "name": "python",
   "nbconvert_exporter": "python",
   "pygments_lexer": "ipython3",
   "version": "3.7.4"
  }
 },
 "nbformat": 4,
 "nbformat_minor": 2
}
